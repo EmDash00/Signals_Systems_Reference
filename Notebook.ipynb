{
 "cells": [
  {
   "cell_type": "code",
   "execution_count": 29,
   "id": "aa22ea2b-a2d8-4f22-9fe1-214982325b56",
   "metadata": {},
   "outputs": [],
   "source": [
    "import numpy as np\n",
    "from numpy import sin, cos\n",
    "\n",
    "from sympy import Symbol, Rational, Matrix, simplify, factor, expand\n",
    "import sympy as sym\n",
    "from sympy import symbols\n",
    "from sympy import oo"
   ]
  },
  {
   "cell_type": "code",
   "execution_count": 30,
   "id": "967ded21-1ae6-4d94-99b9-fa4d30ee43ed",
   "metadata": {},
   "outputs": [],
   "source": [
    "g = Symbol('g', positive=False)\n",
    "L = Symbol('L', positive=True)\n",
    "b = Symbol('b', positive=True)\n",
    "\n",
    "\n",
    "A = Matrix([\n",
    "    [0, 1],\n",
    "    [1, -1]\n",
    "])\n",
    "\n",
    "P, D = A.diagonalize()"
   ]
  },
  {
   "cell_type": "code",
   "execution_count": 39,
   "id": "066f5d22-4779-4e08-a2d6-8e0de26a7c4a",
   "metadata": {},
   "outputs": [
    {
     "data": {
      "text/latex": [
       "$\\displaystyle \\left[\\begin{matrix}\\cos{\\left(t \\right)} & e^{- t} \\sin{\\left(t \\right)}\\\\- \\sin{\\left(t \\right)} & e^{- t} \\cos{\\left(t \\right)}\\end{matrix}\\right]$"
      ],
      "text/plain": [
       "Matrix([\n",
       "[ cos(t), exp(-t)*sin(t)],\n",
       "[-sin(t), exp(-t)*cos(t)]])"
      ]
     },
     "execution_count": 39,
     "metadata": {},
     "output_type": "execute_result"
    }
   ],
   "source": [
    "t = Symbol('t', real=True)\n",
    "A_k = Matrix([\n",
    "    [0, 1],\n",
    "    [-1, 0]\n",
    "])\n",
    "\n",
    "A_s = Matrix([\n",
    "    [0, 0],\n",
    "    [0, -1]\n",
    "])\n",
    "\n",
    "# e^(At) = e^((A_k + A_s)t) = e^(A_k * t) e^(A_s * t)\n",
    "A_exp = simplify(sym.exp(A_k * t) @ sym.exp(A_s * t)) \n",
    "\n",
    "A_exp"
   ]
  },
  {
   "cell_type": "code",
   "execution_count": 42,
   "id": "13b48c52-557e-4734-9f60-107f124427b4",
   "metadata": {},
   "outputs": [
    {
     "data": {
      "text/latex": [
       "$\\displaystyle \\left[\\begin{matrix}\\dot{\\theta}^{2} e^{- 2 t} + \\theta^{2}\\end{matrix}\\right]$"
      ],
      "text/plain": [
       "Matrix([[\\dot{\\theta}**2*exp(-2*t) + \\theta**2]])"
      ]
     },
     "execution_count": 42,
     "metadata": {},
     "output_type": "execute_result"
    }
   ],
   "source": [
    "Q = Matrix([[1, 0], [0, 1]])\n",
    "P_dot = A_exp.T @ Q @ A_exp\n",
    "\n",
    "theta, theta_dot = symbols(r'\\theta, \\dot{\\theta}')\n",
    "x = Matrix([theta, theta_dot])\n",
    "\n",
    "sym.simplify(x.T @ P_dot @ x)"
   ]
  }
 ],
 "metadata": {
  "kernelspec": {
   "display_name": "Python 3 (ipykernel)",
   "language": "python",
   "name": "python3"
  },
  "language_info": {
   "codemirror_mode": {
    "name": "ipython",
    "version": 3
   },
   "file_extension": ".py",
   "mimetype": "text/x-python",
   "name": "python",
   "nbconvert_exporter": "python",
   "pygments_lexer": "ipython3",
   "version": "3.8.12"
  }
 },
 "nbformat": 4,
 "nbformat_minor": 5
}
