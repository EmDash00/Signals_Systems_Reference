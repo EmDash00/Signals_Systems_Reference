{
 "cells": [
  {
   "cell_type": "code",
   "execution_count": 3,
   "id": "aa22ea2b-a2d8-4f22-9fe1-214982325b56",
   "metadata": {},
   "outputs": [],
   "source": [
    "import numpy as np\n",
    "from numpy import sin, cos\n",
    "\n",
    "from sympy import Symbol, Rational, Matrix, simplify, factor, expand\n",
    "import sympy as sym"
   ]
  },
  {
   "cell_type": "code",
   "execution_count": 30,
   "id": "967ded21-1ae6-4d94-99b9-fa4d30ee43ed",
   "metadata": {},
   "outputs": [],
   "source": [
    "g = Symbol('g', positive=False)\n",
    "L = Symbol('L', positive=True)\n",
    "b = Symbol('b', positive=True)\n",
    "\n",
    "\n",
    "A = Matrix([\n",
    "    [0, 1],\n",
    "    [1, -1]\n",
    "])\n",
    "\n",
    "P, D = A.diagonalize()"
   ]
  },
  {
   "cell_type": "code",
   "execution_count": 33,
   "id": "066f5d22-4779-4e08-a2d6-8e0de26a7c4a",
   "metadata": {},
   "outputs": [
    {
     "data": {
      "text/latex": [
       "$\\displaystyle \\left[\\begin{matrix}- \\frac{1}{2} + \\frac{\\sqrt{5}}{2} & 0\\\\0 & - \\frac{\\sqrt{5}}{2} - \\frac{1}{2}\\end{matrix}\\right]$"
      ],
      "text/plain": [
       "Matrix([\n",
       "[-1/2 + sqrt(5)/2,                0],\n",
       "[               0, -sqrt(5)/2 - 1/2]])"
      ]
     },
     "execution_count": 33,
     "metadata": {},
     "output_type": "execute_result"
    }
   ],
   "source": [
    "D"
   ]
  }
 ],
 "metadata": {
  "kernelspec": {
   "display_name": "Python 3 (ipykernel)",
   "language": "python",
   "name": "python3"
  },
  "language_info": {
   "codemirror_mode": {
    "name": "ipython",
    "version": 3
   },
   "file_extension": ".py",
   "mimetype": "text/x-python",
   "name": "python",
   "nbconvert_exporter": "python",
   "pygments_lexer": "ipython3",
   "version": "3.8.12"
  }
 },
 "nbformat": 4,
 "nbformat_minor": 5
}
